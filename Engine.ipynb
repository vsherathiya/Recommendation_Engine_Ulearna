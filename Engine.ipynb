{
  "cells": [
    {
      "cell_type": "code",
      "execution_count": 1,
      "metadata": {},
      "outputs": [
        {
          "name": "stdout",
          "output_type": "stream",
          "text": [
            "Defaulting to user installation because normal site-packages is not writeable\n",
            "Collecting nudenet\n",
            "  Obtaining dependency information for nudenet from https://files.pythonhosted.org/packages/fa/7f/a72c8a36a338f7e30fd564d982ca8154859a69602ca1c0d5c500c4de2e16/nudenet-3.0.8-py3-none-any.whl.metadata\n",
            "  Downloading nudenet-3.0.8-py3-none-any.whl.metadata (2.4 kB)\n",
            "Requirement already satisfied: numpy in c:\\programdata\\anaconda3\\lib\\site-packages (from nudenet) (1.24.3)\n",
            "Requirement already satisfied: onnxruntime in c:\\users\\vsherathiya\\appdata\\roaming\\python\\python311\\site-packages (from nudenet) (1.15.1)\n",
            "Collecting opencv-python-headless (from nudenet)\n",
            "  Obtaining dependency information for opencv-python-headless from https://files.pythonhosted.org/packages/e3/10/31b27a7473043eb5317f698ede00e7e129b2de378903bfe0bb4d785a7baf/opencv_python_headless-4.8.1.78-cp37-abi3-win_amd64.whl.metadata\n",
            "  Downloading opencv_python_headless-4.8.1.78-cp37-abi3-win_amd64.whl.metadata (20 kB)\n",
            "Requirement already satisfied: coloredlogs in c:\\users\\vsherathiya\\appdata\\roaming\\python\\python311\\site-packages (from onnxruntime->nudenet) (15.0.1)\n",
            "Requirement already satisfied: flatbuffers in c:\\users\\vsherathiya\\appdata\\roaming\\python\\python311\\site-packages (from onnxruntime->nudenet) (23.5.26)\n",
            "Requirement already satisfied: packaging in c:\\programdata\\anaconda3\\lib\\site-packages (from onnxruntime->nudenet) (23.1)\n",
            "Requirement already satisfied: protobuf in c:\\programdata\\anaconda3\\lib\\site-packages (from onnxruntime->nudenet) (3.20.2)\n",
            "Requirement already satisfied: sympy in c:\\programdata\\anaconda3\\lib\\site-packages (from onnxruntime->nudenet) (1.11.1)\n",
            "Requirement already satisfied: humanfriendly>=9.1 in c:\\users\\vsherathiya\\appdata\\roaming\\python\\python311\\site-packages (from coloredlogs->onnxruntime->nudenet) (10.0)\n",
            "Requirement already satisfied: mpmath>=0.19 in c:\\programdata\\anaconda3\\lib\\site-packages (from sympy->onnxruntime->nudenet) (1.3.0)\n",
            "Requirement already satisfied: pyreadline3 in c:\\users\\vsherathiya\\appdata\\roaming\\python\\python311\\site-packages (from humanfriendly>=9.1->coloredlogs->onnxruntime->nudenet) (3.4.1)\n",
            "Downloading nudenet-3.0.8-py3-none-any.whl (10.6 MB)\n",
            "   ---------------------------------------- 0.0/10.6 MB ? eta -:--:--\n",
            "    --------------------------------------- 0.1/10.6 MB 4.3 MB/s eta 0:00:03\n",
            "   - -------------------------------------- 0.5/10.6 MB 5.8 MB/s eta 0:00:02\n",
            "   -- ------------------------------------- 0.8/10.6 MB 6.9 MB/s eta 0:00:02\n",
            "   --- ------------------------------------ 1.1/10.6 MB 6.7 MB/s eta 0:00:02\n",
            "   ----- ---------------------------------- 1.4/10.6 MB 6.8 MB/s eta 0:00:02\n",
            "   ------ --------------------------------- 1.6/10.6 MB 6.1 MB/s eta 0:00:02\n",
            "   ------- -------------------------------- 1.9/10.6 MB 6.4 MB/s eta 0:00:02\n",
            "   -------- ------------------------------- 2.2/10.6 MB 6.4 MB/s eta 0:00:02\n",
            "   --------- ------------------------------ 2.5/10.6 MB 6.3 MB/s eta 0:00:02\n",
            "   ---------- ----------------------------- 2.8/10.6 MB 6.4 MB/s eta 0:00:02\n",
            "   ----------- ---------------------------- 3.1/10.6 MB 6.4 MB/s eta 0:00:02\n",
            "   ------------ --------------------------- 3.4/10.6 MB 6.3 MB/s eta 0:00:02\n",
            "   -------------- ------------------------- 3.7/10.6 MB 6.4 MB/s eta 0:00:02\n",
            "   --------------- ------------------------ 4.0/10.6 MB 6.4 MB/s eta 0:00:02\n",
            "   ---------------- ----------------------- 4.2/10.6 MB 6.4 MB/s eta 0:00:01\n",
            "   ----------------- ---------------------- 4.5/10.6 MB 6.3 MB/s eta 0:00:01\n",
            "   ------------------ --------------------- 4.9/10.6 MB 6.4 MB/s eta 0:00:01\n",
            "   ------------------- -------------------- 5.1/10.6 MB 6.4 MB/s eta 0:00:01\n",
            "   -------------------- ------------------- 5.5/10.6 MB 6.4 MB/s eta 0:00:01\n",
            "   --------------------- ------------------ 5.8/10.6 MB 6.4 MB/s eta 0:00:01\n",
            "   ---------------------- ----------------- 6.1/10.6 MB 6.4 MB/s eta 0:00:01\n",
            "   ----------------------- ---------------- 6.3/10.6 MB 6.4 MB/s eta 0:00:01\n",
            "   ------------------------- -------------- 6.6/10.6 MB 6.3 MB/s eta 0:00:01\n",
            "   -------------------------- ------------- 7.0/10.6 MB 6.4 MB/s eta 0:00:01\n",
            "   --------------------------- ------------ 7.2/10.6 MB 6.4 MB/s eta 0:00:01\n",
            "   ---------------------------- ----------- 7.5/10.6 MB 6.4 MB/s eta 0:00:01\n",
            "   ----------------------------- ---------- 7.8/10.6 MB 6.4 MB/s eta 0:00:01\n",
            "   ------------------------------ --------- 8.2/10.6 MB 6.4 MB/s eta 0:00:01\n",
            "   ------------------------------- -------- 8.4/10.6 MB 6.4 MB/s eta 0:00:01\n",
            "   --------------------------------- ------ 8.8/10.6 MB 6.4 MB/s eta 0:00:01\n",
            "   ---------------------------------- ----- 9.1/10.6 MB 6.4 MB/s eta 0:00:01\n",
            "   ----------------------------------- ---- 9.4/10.6 MB 6.4 MB/s eta 0:00:01\n",
            "   ------------------------------------ --- 9.6/10.6 MB 6.4 MB/s eta 0:00:01\n",
            "   ------------------------------------- -- 9.9/10.6 MB 6.4 MB/s eta 0:00:01\n",
            "   -------------------------------------- - 10.2/10.6 MB 6.4 MB/s eta 0:00:01\n",
            "   ---------------------------------------  10.5/10.6 MB 6.4 MB/s eta 0:00:01\n",
            "   ---------------------------------------  10.6/10.6 MB 6.4 MB/s eta 0:00:01\n",
            "   ---------------------------------------- 10.6/10.6 MB 6.2 MB/s eta 0:00:00\n",
            "Downloading opencv_python_headless-4.8.1.78-cp37-abi3-win_amd64.whl (38.0 MB)\n",
            "   ---------------------------------------- 0.0/38.0 MB ? eta -:--:--\n",
            "   ---------------------------------------- 0.4/38.0 MB 8.5 MB/s eta 0:00:05\n",
            "    --------------------------------------- 0.7/38.0 MB 7.2 MB/s eta 0:00:06\n",
            "    --------------------------------------- 0.9/38.0 MB 7.5 MB/s eta 0:00:05\n",
            "   - -------------------------------------- 1.2/38.0 MB 6.5 MB/s eta 0:00:06\n",
            "   - -------------------------------------- 1.6/38.0 MB 6.7 MB/s eta 0:00:06\n",
            "   - -------------------------------------- 1.8/38.0 MB 6.9 MB/s eta 0:00:06\n",
            "   -- ------------------------------------- 2.2/38.0 MB 6.5 MB/s eta 0:00:06\n",
            "   -- ------------------------------------- 2.4/38.0 MB 6.4 MB/s eta 0:00:06\n",
            "   -- ------------------------------------- 2.7/38.0 MB 6.4 MB/s eta 0:00:06\n",
            "   --- ------------------------------------ 3.0/38.0 MB 6.3 MB/s eta 0:00:06\n",
            "   --- ------------------------------------ 3.3/38.0 MB 6.3 MB/s eta 0:00:06\n",
            "   --- ------------------------------------ 3.6/38.0 MB 6.5 MB/s eta 0:00:06\n",
            "   ---- ----------------------------------- 3.9/38.0 MB 6.3 MB/s eta 0:00:06\n",
            "   ---- ----------------------------------- 4.1/38.0 MB 6.3 MB/s eta 0:00:06\n",
            "   ---- ----------------------------------- 4.4/38.0 MB 6.3 MB/s eta 0:00:06\n",
            "   ---- ----------------------------------- 4.7/38.0 MB 6.3 MB/s eta 0:00:06\n",
            "   ----- ---------------------------------- 5.0/38.0 MB 6.4 MB/s eta 0:00:06\n",
            "   ----- ---------------------------------- 5.3/38.0 MB 6.3 MB/s eta 0:00:06\n",
            "   ----- ---------------------------------- 5.6/38.0 MB 6.4 MB/s eta 0:00:06\n",
            "   ------ --------------------------------- 5.9/38.0 MB 6.4 MB/s eta 0:00:05\n",
            "   ------ --------------------------------- 6.3/38.0 MB 6.4 MB/s eta 0:00:05\n",
            "   ------ --------------------------------- 6.5/38.0 MB 6.4 MB/s eta 0:00:05\n",
            "   ------- -------------------------------- 6.8/38.0 MB 6.4 MB/s eta 0:00:05\n",
            "   ------- -------------------------------- 7.1/38.0 MB 6.4 MB/s eta 0:00:05\n",
            "   ------- -------------------------------- 7.4/38.0 MB 6.4 MB/s eta 0:00:05\n",
            "   -------- ------------------------------- 7.7/38.0 MB 6.4 MB/s eta 0:00:05\n",
            "   -------- ------------------------------- 8.0/38.0 MB 6.4 MB/s eta 0:00:05\n",
            "   -------- ------------------------------- 8.3/38.0 MB 6.4 MB/s eta 0:00:05\n",
            "   --------- ------------------------------ 8.6/38.0 MB 6.4 MB/s eta 0:00:05\n",
            "   --------- ------------------------------ 8.8/38.0 MB 6.3 MB/s eta 0:00:05\n",
            "   --------- ------------------------------ 9.2/38.0 MB 6.4 MB/s eta 0:00:05\n",
            "   --------- ------------------------------ 9.4/38.0 MB 6.3 MB/s eta 0:00:05\n",
            "   ---------- ----------------------------- 9.7/38.0 MB 6.4 MB/s eta 0:00:05\n",
            "   ---------- ----------------------------- 10.1/38.0 MB 6.4 MB/s eta 0:00:05\n",
            "   ---------- ----------------------------- 10.4/38.0 MB 6.3 MB/s eta 0:00:05\n",
            "   ----------- ---------------------------- 10.6/38.0 MB 6.3 MB/s eta 0:00:05\n",
            "   ----------- ---------------------------- 10.9/38.0 MB 6.4 MB/s eta 0:00:05\n",
            "   ----------- ---------------------------- 11.2/38.0 MB 6.3 MB/s eta 0:00:05\n",
            "   ------------ --------------------------- 11.5/38.0 MB 6.3 MB/s eta 0:00:05\n",
            "   ------------ --------------------------- 11.7/38.0 MB 6.3 MB/s eta 0:00:05\n",
            "   ------------ --------------------------- 12.0/38.0 MB 6.2 MB/s eta 0:00:05\n",
            "   ------------ --------------------------- 12.3/38.0 MB 6.3 MB/s eta 0:00:05\n",
            "   ------------- -------------------------- 12.6/38.0 MB 6.2 MB/s eta 0:00:05\n",
            "   ------------- -------------------------- 12.9/38.0 MB 6.2 MB/s eta 0:00:05\n",
            "   ------------- -------------------------- 13.1/38.0 MB 6.3 MB/s eta 0:00:04\n",
            "   -------------- ------------------------- 13.4/38.0 MB 6.3 MB/s eta 0:00:04\n",
            "   -------------- ------------------------- 13.7/38.0 MB 6.3 MB/s eta 0:00:04\n",
            "   -------------- ------------------------- 14.0/38.0 MB 6.4 MB/s eta 0:00:04\n",
            "   --------------- ------------------------ 14.3/38.0 MB 6.4 MB/s eta 0:00:04\n",
            "   --------------- ------------------------ 14.6/38.0 MB 6.3 MB/s eta 0:00:04\n",
            "   --------------- ------------------------ 14.9/38.0 MB 6.4 MB/s eta 0:00:04\n",
            "   --------------- ------------------------ 15.2/38.0 MB 6.3 MB/s eta 0:00:04\n",
            "   ---------------- ----------------------- 15.4/38.0 MB 6.3 MB/s eta 0:00:04\n",
            "   ---------------- ----------------------- 15.8/38.0 MB 6.3 MB/s eta 0:00:04\n",
            "   ---------------- ----------------------- 16.1/38.0 MB 6.3 MB/s eta 0:00:04\n",
            "   ----------------- ---------------------- 16.4/38.0 MB 6.2 MB/s eta 0:00:04\n",
            "   ----------------- ---------------------- 16.7/38.0 MB 6.2 MB/s eta 0:00:04\n",
            "   ----------------- ---------------------- 17.0/38.0 MB 6.3 MB/s eta 0:00:04\n",
            "   ------------------ --------------------- 17.2/38.0 MB 6.2 MB/s eta 0:00:04\n",
            "   ------------------ --------------------- 17.5/38.0 MB 6.2 MB/s eta 0:00:04\n",
            "   ------------------ --------------------- 17.9/38.0 MB 6.2 MB/s eta 0:00:04\n",
            "   ------------------- -------------------- 18.2/38.0 MB 6.2 MB/s eta 0:00:04\n",
            "   ------------------- -------------------- 18.4/38.0 MB 6.2 MB/s eta 0:00:04\n",
            "   ------------------- -------------------- 18.7/38.0 MB 6.3 MB/s eta 0:00:04\n",
            "   -------------------- ------------------- 19.0/38.0 MB 6.2 MB/s eta 0:00:04\n",
            "   -------------------- ------------------- 19.3/38.0 MB 6.2 MB/s eta 0:00:03\n",
            "   -------------------- ------------------- 19.6/38.0 MB 6.2 MB/s eta 0:00:03\n",
            "   -------------------- ------------------- 19.9/38.0 MB 6.2 MB/s eta 0:00:03\n",
            "   --------------------- ------------------ 20.2/38.0 MB 6.2 MB/s eta 0:00:03\n",
            "   --------------------- ------------------ 20.5/38.0 MB 6.3 MB/s eta 0:00:03\n",
            "   --------------------- ------------------ 20.8/38.0 MB 6.2 MB/s eta 0:00:03\n",
            "   ---------------------- ----------------- 21.1/38.0 MB 6.2 MB/s eta 0:00:03\n",
            "   ---------------------- ----------------- 21.4/38.0 MB 6.3 MB/s eta 0:00:03\n",
            "   ---------------------- ----------------- 21.6/38.0 MB 6.2 MB/s eta 0:00:03\n",
            "   ----------------------- ---------------- 21.9/38.0 MB 6.3 MB/s eta 0:00:03\n",
            "   ----------------------- ---------------- 22.3/38.0 MB 6.3 MB/s eta 0:00:03\n",
            "   ----------------------- ---------------- 22.5/38.0 MB 6.3 MB/s eta 0:00:03\n",
            "   ----------------------- ---------------- 22.7/38.0 MB 6.3 MB/s eta 0:00:03\n",
            "   ------------------------ --------------- 23.1/38.0 MB 6.3 MB/s eta 0:00:03\n",
            "   ------------------------ --------------- 23.4/38.0 MB 6.3 MB/s eta 0:00:03\n",
            "   ------------------------ --------------- 23.7/38.0 MB 6.3 MB/s eta 0:00:03\n",
            "   ------------------------- -------------- 24.0/38.0 MB 6.3 MB/s eta 0:00:03\n",
            "   ------------------------- -------------- 24.3/38.0 MB 6.3 MB/s eta 0:00:03\n",
            "   ------------------------- -------------- 24.5/38.0 MB 6.2 MB/s eta 0:00:03\n",
            "   -------------------------- ------------- 24.8/38.0 MB 6.2 MB/s eta 0:00:03\n",
            "   -------------------------- ------------- 25.2/38.0 MB 6.3 MB/s eta 0:00:03\n",
            "   -------------------------- ------------- 25.4/38.0 MB 6.2 MB/s eta 0:00:03\n",
            "   --------------------------- ------------ 25.7/38.0 MB 6.4 MB/s eta 0:00:02\n",
            "   --------------------------- ------------ 26.0/38.0 MB 6.3 MB/s eta 0:00:02\n",
            "   --------------------------- ------------ 26.3/38.0 MB 6.3 MB/s eta 0:00:02\n",
            "   ---------------------------- ----------- 26.6/38.0 MB 6.4 MB/s eta 0:00:02\n",
            "   ---------------------------- ----------- 26.9/38.0 MB 6.2 MB/s eta 0:00:02\n",
            "   ---------------------------- ----------- 27.2/38.0 MB 6.2 MB/s eta 0:00:02\n",
            "   ---------------------------- ----------- 27.5/38.0 MB 6.3 MB/s eta 0:00:02\n",
            "   ----------------------------- ---------- 27.8/38.0 MB 6.4 MB/s eta 0:00:02\n",
            "   ----------------------------- ---------- 28.1/38.0 MB 6.2 MB/s eta 0:00:02\n",
            "   ----------------------------- ---------- 28.4/38.0 MB 6.3 MB/s eta 0:00:02\n",
            "   ------------------------------ --------- 28.7/38.0 MB 6.4 MB/s eta 0:00:02\n",
            "   ------------------------------ --------- 28.9/38.0 MB 6.3 MB/s eta 0:00:02\n",
            "   ------------------------------ --------- 29.3/38.0 MB 6.3 MB/s eta 0:00:02\n",
            "   ------------------------------- -------- 29.6/38.0 MB 6.3 MB/s eta 0:00:02\n",
            "   ------------------------------- -------- 29.8/38.0 MB 6.3 MB/s eta 0:00:02\n",
            "   ------------------------------- -------- 30.1/38.0 MB 6.3 MB/s eta 0:00:02\n",
            "   -------------------------------- ------- 30.4/38.0 MB 6.3 MB/s eta 0:00:02\n",
            "   -------------------------------- ------- 30.8/38.0 MB 6.4 MB/s eta 0:00:02\n",
            "   -------------------------------- ------- 31.0/38.0 MB 6.3 MB/s eta 0:00:02\n",
            "   -------------------------------- ------- 31.2/38.0 MB 6.3 MB/s eta 0:00:02\n",
            "   --------------------------------- ------ 31.6/38.0 MB 6.3 MB/s eta 0:00:02\n",
            "   --------------------------------- ------ 31.9/38.0 MB 6.4 MB/s eta 0:00:01\n",
            "   --------------------------------- ------ 32.2/38.0 MB 6.3 MB/s eta 0:00:01\n",
            "   ---------------------------------- ----- 32.5/38.0 MB 6.3 MB/s eta 0:00:01\n",
            "   ---------------------------------- ----- 32.8/38.0 MB 6.4 MB/s eta 0:00:01\n",
            "   ---------------------------------- ----- 33.1/38.0 MB 6.4 MB/s eta 0:00:01\n",
            "   ----------------------------------- ---- 33.2/38.0 MB 6.2 MB/s eta 0:00:01\n",
            "   ----------------------------------- ---- 33.5/38.0 MB 6.2 MB/s eta 0:00:01\n",
            "   ----------------------------------- ---- 33.8/38.0 MB 6.2 MB/s eta 0:00:01\n",
            "   ----------------------------------- ---- 34.1/38.0 MB 6.2 MB/s eta 0:00:01\n",
            "   ------------------------------------ --- 34.4/38.0 MB 6.2 MB/s eta 0:00:01\n",
            "   ------------------------------------ --- 34.6/38.0 MB 6.1 MB/s eta 0:00:01\n",
            "   ------------------------------------ --- 34.9/38.0 MB 6.1 MB/s eta 0:00:01\n",
            "   ------------------------------------- -- 35.3/38.0 MB 6.2 MB/s eta 0:00:01\n",
            "   ------------------------------------- -- 35.7/38.0 MB 6.2 MB/s eta 0:00:01\n",
            "   ------------------------------------- -- 35.9/38.0 MB 6.2 MB/s eta 0:00:01\n",
            "   -------------------------------------- - 36.2/38.0 MB 6.2 MB/s eta 0:00:01\n",
            "   -------------------------------------- - 36.5/38.0 MB 6.2 MB/s eta 0:00:01\n",
            "   -------------------------------------- - 36.8/38.0 MB 6.1 MB/s eta 0:00:01\n",
            "   ---------------------------------------  37.1/38.0 MB 6.2 MB/s eta 0:00:01\n",
            "   ---------------------------------------  37.4/38.0 MB 6.1 MB/s eta 0:00:01\n",
            "   ---------------------------------------  37.7/38.0 MB 6.1 MB/s eta 0:00:01\n",
            "   ---------------------------------------  38.0/38.0 MB 6.1 MB/s eta 0:00:01\n",
            "   ---------------------------------------  38.0/38.0 MB 6.1 MB/s eta 0:00:01\n",
            "   ---------------------------------------  38.0/38.0 MB 6.1 MB/s eta 0:00:01\n",
            "   ---------------------------------------  38.0/38.0 MB 6.1 MB/s eta 0:00:01\n",
            "   ---------------------------------------  38.0/38.0 MB 6.1 MB/s eta 0:00:01\n",
            "   ---------------------------------------  38.0/38.0 MB 6.1 MB/s eta 0:00:01\n",
            "   ---------------------------------------  38.0/38.0 MB 6.1 MB/s eta 0:00:01\n",
            "   ---------------------------------------- 38.0/38.0 MB 5.0 MB/s eta 0:00:00\n",
            "Installing collected packages: opencv-python-headless, nudenet\n",
            "Successfully installed nudenet-3.0.8 opencv-python-headless-4.8.1.78\n",
            "Note: you may need to restart the kernel to use updated packages.\n"
          ]
        },
        {
          "name": "stderr",
          "output_type": "stream",
          "text": [
            "  WARNING: The script nudenet.exe is installed in 'C:\\Users\\vsherathiya\\AppData\\Roaming\\Python\\Python311\\Scripts' which is not on PATH.\n",
            "  Consider adding this directory to PATH or, if you prefer to suppress this warning, use --no-warn-script-location.\n"
          ]
        }
      ],
      "source": [
        "pip install --upgrade nudenet"
      ]
    },
    {
      "cell_type": "code",
      "execution_count": 3,
      "metadata": {},
      "outputs": [],
      "source": [
        "from nudenet import NudeDetector"
      ]
    },
    {
      "cell_type": "code",
      "execution_count": null,
      "metadata": {
        "id": "dGyRFa9rfN67"
      },
      "outputs": [],
      "source": [
        "import pandas as pd\n",
        "from sklearn.metrics.pairwise import cosine_similarity\n",
        "from transformers import BertTokenizer, BertModel\n",
        "import torch\n"
      ]
    },
    {
      "cell_type": "code",
      "execution_count": null,
      "metadata": {
        "id": "xbgBAVu-f3dR"
      },
      "outputs": [],
      "source": [
        "user_interactions = pd.read_json('refined_interactions.json')\n",
        "user_profiles = pd.read_json('refined_user_profiles.json')\n",
        "data = pd.merge(user_profiles, user_interactions, on=\"user_id\")\n",
        "data.head()"
      ]
    },
    {
      "cell_type": "code",
      "execution_count": null,
      "metadata": {
        "id": "ZfwEE3Bwf6SU"
      },
      "outputs": [],
      "source": [
        "device = torch.device(\"cuda\" if torch.cuda.is_available() else \"cpu\")\n",
        "tokenizer = BertTokenizer.from_pretrained('bert-base-uncased')\n",
        "model = BertModel.from_pretrained('bert-base-uncased').to(device)"
      ]
    },
    {
      "cell_type": "code",
      "execution_count": null,
      "metadata": {
        "id": "M8UxwAjKgETw"
      },
      "outputs": [],
      "source": [
        "def create_embeddings(texts):\n",
        "    tokens = tokenizer(texts, padding=True, truncation=True, return_tensors=\"pt\", max_length=512).to(device)\n",
        "    with torch.no_grad():\n",
        "        outputs = model(**tokens)\n",
        "    return outputs.last_hidden_state[:, 0, :].cpu().numpy()"
      ]
    },
    {
      "cell_type": "code",
      "execution_count": null,
      "metadata": {
        "id": "Y2tx0Cr8gJAy"
      },
      "outputs": [],
      "source": [
        "data['user_combined_text'] = data[['region', 'languages', 'preferences']].astype(str).agg(' '.join, axis=1)\n",
        "data['content_combined_text'] = data[['content_id', 'content_creator', 'content_language', 'content_type','interaction_types']].astype(str).agg(' '.join, axis=1)\n"
      ]
    },
    {
      "cell_type": "code",
      "execution_count": null,
      "metadata": {
        "id": "23zHbtVmgMgf"
      },
      "outputs": [],
      "source": [
        "data[['user_combined_text','content_combined_text']].head()"
      ]
    },
    {
      "cell_type": "code",
      "execution_count": null,
      "metadata": {
        "id": "huMeiXfbgV4v"
      },
      "outputs": [],
      "source": [
        "unique_user_texts = [str(text) for text in data['user_combined_text'].unique() if text]\n",
        "unique_content_texts = [str(text) for text in data['content_combined_text'].unique() if text]"
      ]
    },
    {
      "cell_type": "code",
      "execution_count": null,
      "metadata": {
        "id": "Df27tCMahr1s"
      },
      "outputs": [],
      "source": [
        "user_embeddings = create_embeddings(unique_user_texts)\n",
        "content_embeddings = create_embeddings(unique_content_texts)"
      ]
    },
    {
      "cell_type": "code",
      "execution_count": null,
      "metadata": {
        "id": "TB9GEeUIh1p6"
      },
      "outputs": [],
      "source": [
        "similarity_scores = cosine_similarity(user_embeddings, content_embeddings)"
      ]
    },
    {
      "cell_type": "code",
      "execution_count": null,
      "metadata": {
        "id": "j6GPy58biqT0"
      },
      "outputs": [],
      "source": [
        "similarity_scores"
      ]
    },
    {
      "cell_type": "code",
      "execution_count": null,
      "metadata": {
        "id": "otfeFvgeisUZ"
      },
      "outputs": [],
      "source": [
        "user_id_to_index = {user_id: index for index, user_id in enumerate(data['user_id'].unique())}"
      ]
    },
    {
      "cell_type": "code",
      "execution_count": null,
      "metadata": {
        "id": "O9POkfJ9kWyI"
      },
      "outputs": [],
      "source": [
        "content_id_to_index = {id: index for index, id in enumerate(data['content_id'].unique())}\n"
      ]
    },
    {
      "cell_type": "code",
      "execution_count": null,
      "metadata": {
        "id": "Dfu0d_UGktUd"
      },
      "outputs": [],
      "source": [
        "def get_recommendations(user_id, similarity_scores, top_n=5):\n",
        "    if user_id not in user_id_to_index:\n",
        "        return f\"User ID {user_id} not found.\"\n",
        "    user_idx = user_id_to_index[user_id]\n",
        "    scores = similarity_scores[user_idx]\n",
        "    top_indices = scores.argsort()[-top_n:][::-1]\n",
        "    recommendations = []\n",
        "    for idx in top_indices:\n",
        "        content_idx = content_id_to_index[data['content_id'].iloc[idx]]\n",
        "        content_id = data['content_id'].iloc[idx]\n",
        "        content_creator = data['content_creator'].iloc[idx]\n",
        "        content_type = data[data['content_id'] == content_id]['content_type'].iloc[0]\n",
        "        score = scores[idx]\n",
        "        recommendations.append((content_id, content_creator,content_type, score))\n",
        "    return recommendations"
      ]
    },
    {
      "cell_type": "code",
      "execution_count": null,
      "metadata": {
        "id": "2m7pVkXdldAZ"
      },
      "outputs": [],
      "source": [
        "counter = 0\n",
        "for user_id in data['user_id'].unique():\n",
        "    top_recommendations = get_recommendations(user_id, similarity_scores)\n",
        "    print(f\"User {user_id}:\\n {top_recommendations}\\n\\n\")\n",
        "    counter += 1\n",
        "    if counter >= 5:\n",
        "        break"
      ]
    },
    {
      "cell_type": "code",
      "execution_count": null,
      "metadata": {
        "id": "_ud27OYOliHB"
      },
      "outputs": [],
      "source": []
    }
  ],
  "metadata": {
    "accelerator": "GPU",
    "colab": {
      "gpuType": "T4",
      "private_outputs": true,
      "provenance": []
    },
    "kernelspec": {
      "display_name": "Python 3",
      "name": "python3"
    },
    "language_info": {
      "codemirror_mode": {
        "name": "ipython",
        "version": 3
      },
      "file_extension": ".py",
      "mimetype": "text/x-python",
      "name": "python",
      "nbconvert_exporter": "python",
      "pygments_lexer": "ipython3",
      "version": "3.11.5"
    }
  },
  "nbformat": 4,
  "nbformat_minor": 0
}
